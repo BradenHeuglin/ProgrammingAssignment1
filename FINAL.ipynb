{
 "cells": [
  {
   "cell_type": "code",
   "execution_count": 11,
   "id": "f84b1d17",
   "metadata": {},
   "outputs": [
    {
     "name": "stdout",
     "output_type": "stream",
     "text": [
      "Enter a floating point number: 44.3\n"
     ]
    }
   ],
   "source": [
    "number1=float(input(\"Enter a floating point number: \"))"
   ]
  },
  {
   "cell_type": "code",
   "execution_count": 2,
   "id": "c57a68c6",
   "metadata": {},
   "outputs": [
    {
     "name": "stdout",
     "output_type": "stream",
     "text": [
      "Enter an integer: 16\n"
     ]
    }
   ],
   "source": [
    "number2=int(input(\"Enter an integer: \"))"
   ]
  },
  {
   "cell_type": "code",
   "execution_count": 12,
   "id": "cba6e10f",
   "metadata": {},
   "outputs": [
    {
     "name": "stdout",
     "output_type": "stream",
     "text": [
      "The sum is: 60.3\n"
     ]
    }
   ],
   "source": [
    "print(\"The sum is:\", number1+number2)"
   ]
  },
  {
   "cell_type": "code",
   "execution_count": 13,
   "id": "b4d937f4",
   "metadata": {},
   "outputs": [
    {
     "name": "stdout",
     "output_type": "stream",
     "text": [
      "The difference is: 28.299999999999997\n"
     ]
    }
   ],
   "source": [
    "print(\"The difference is:\", number1-number2)"
   ]
  },
  {
   "cell_type": "code",
   "execution_count": 14,
   "id": "65725a0a",
   "metadata": {},
   "outputs": [
    {
     "name": "stdout",
     "output_type": "stream",
     "text": [
      "The product is: 708.8\n"
     ]
    }
   ],
   "source": [
    "print(\"The product is:\", number1*number2)"
   ]
  },
  {
   "cell_type": "code",
   "execution_count": 15,
   "id": "ddca000a",
   "metadata": {},
   "outputs": [
    {
     "name": "stdout",
     "output_type": "stream",
     "text": [
      "The quotient is: 2.76875\n"
     ]
    }
   ],
   "source": [
    "print(\"The quotient is:\", number1/number2)"
   ]
  },
  {
   "cell_type": "code",
   "execution_count": 16,
   "id": "462d49c0",
   "metadata": {},
   "outputs": [
    {
     "data": {
      "text/plain": [
       "float"
      ]
     },
     "execution_count": 16,
     "metadata": {},
     "output_type": "execute_result"
    }
   ],
   "source": [
    "type(number1)"
   ]
  },
  {
   "cell_type": "code",
   "execution_count": 17,
   "id": "9ed84a10",
   "metadata": {},
   "outputs": [
    {
     "name": "stdout",
     "output_type": "stream",
     "text": [
      "<class 'float'>\n"
     ]
    }
   ],
   "source": [
    "print(type(number1))"
   ]
  },
  {
   "cell_type": "markdown",
   "id": "263b4979",
   "metadata": {},
   "source": [
    "# PA1 on Chapter 2"
   ]
  },
  {
   "cell_type": "markdown",
   "id": "f7a29011",
   "metadata": {},
   "source": [
    "## Braden Heuglin"
   ]
  },
  {
   "cell_type": "markdown",
   "id": "29168f97",
   "metadata": {},
   "source": [
    "### Version 1"
   ]
  },
  {
   "cell_type": "markdown",
   "id": "e7e47f01",
   "metadata": {},
   "source": [
    "#### CS 150 Fall Semester"
   ]
  }
 ],
 "metadata": {
  "kernelspec": {
   "display_name": "Python 3 (ipykernel)",
   "language": "python",
   "name": "python3"
  },
  "language_info": {
   "codemirror_mode": {
    "name": "ipython",
    "version": 3
   },
   "file_extension": ".py",
   "mimetype": "text/x-python",
   "name": "python",
   "nbconvert_exporter": "python",
   "pygments_lexer": "ipython3",
   "version": "3.9.12"
  }
 },
 "nbformat": 4,
 "nbformat_minor": 5
}
