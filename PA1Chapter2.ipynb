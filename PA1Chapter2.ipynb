{
 "cells": [
  {
   "cell_type": "code",
   "execution_count": 18,
   "id": "f84b1d17",
   "metadata": {},
   "outputs": [
    {
     "name": "stdout",
     "output_type": "stream",
     "text": [
      "Enter a floating point number: 44.3\n"
     ]
    }
   ],
   "source": [
    "number1=float(input(\"Enter a floating point number: \"))"
   ]
  },
  {
   "cell_type": "code",
   "execution_count": 19,
   "id": "c57a68c6",
   "metadata": {},
   "outputs": [
    {
     "name": "stdout",
     "output_type": "stream",
     "text": [
      "Enter an integer: 16\n"
     ]
    }
   ],
   "source": [
    "number2=input(\"Enter an integer: \")"
   ]
  },
  {
   "cell_type": "code",
   "execution_count": 21,
   "id": "cba6e10f",
   "metadata": {},
   "outputs": [
    {
     "name": "stdout",
     "output_type": "stream",
     "text": [
      "The sum is: 60.3\n"
     ]
    }
   ],
   "source": [
    "print(\"The sum is:\", 44.3+16)"
   ]
  },
  {
   "cell_type": "code",
   "execution_count": 11,
   "id": "b4d937f4",
   "metadata": {},
   "outputs": [
    {
     "name": "stdout",
     "output_type": "stream",
     "text": [
      "The difference is: 28.299999999999997\n"
     ]
    }
   ],
   "source": [
    "print(\"The difference is:\", 44.3-16)"
   ]
  },
  {
   "cell_type": "code",
   "execution_count": 10,
   "id": "65725a0a",
   "metadata": {},
   "outputs": [
    {
     "name": "stdout",
     "output_type": "stream",
     "text": [
      "The product is: 708.8\n"
     ]
    }
   ],
   "source": [
    "print(\"The product is:\", 44.3*16)"
   ]
  },
  {
   "cell_type": "code",
   "execution_count": 9,
   "id": "ddca000a",
   "metadata": {},
   "outputs": [
    {
     "name": "stdout",
     "output_type": "stream",
     "text": [
      "The quotient is: 2.76875\n"
     ]
    }
   ],
   "source": [
    "print(\"The quotient is:\", 44.3/16)"
   ]
  },
  {
   "cell_type": "code",
   "execution_count": 22,
   "id": "462d49c0",
   "metadata": {},
   "outputs": [
    {
     "data": {
      "text/plain": [
       "float"
      ]
     },
     "execution_count": 22,
     "metadata": {},
     "output_type": "execute_result"
    }
   ],
   "source": [
    "type(number1)"
   ]
  },
  {
   "cell_type": "code",
   "execution_count": 23,
   "id": "9ed84a10",
   "metadata": {},
   "outputs": [
    {
     "name": "stdout",
     "output_type": "stream",
     "text": [
      "<class 'float'>\n"
     ]
    }
   ],
   "source": [
    "print(type(number1))"
   ]
  },
  {
   "cell_type": "markdown",
   "id": "263b4979",
   "metadata": {},
   "source": [
    "# PA1 on Chapter 2\n",
    "# Braden Heuglin\n",
    "# Version 1\n",
    "# CS 150"
   ]
  },
  {
   "cell_type": "code",
   "execution_count": null,
   "id": "a1dbc989",
   "metadata": {},
   "outputs": [],
   "source": []
  }
 ],
 "metadata": {
  "kernelspec": {
   "display_name": "Python 3 (ipykernel)",
   "language": "python",
   "name": "python3"
  },
  "language_info": {
   "codemirror_mode": {
    "name": "ipython",
    "version": 3
   },
   "file_extension": ".py",
   "mimetype": "text/x-python",
   "name": "python",
   "nbconvert_exporter": "python",
   "pygments_lexer": "ipython3",
   "version": "3.9.12"
  }
 },
 "nbformat": 4,
 "nbformat_minor": 5
}
